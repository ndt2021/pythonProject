{
 "cells": [
  {
   "cell_type": "markdown",
   "id": "7e882a969ae22a97",
   "metadata": {
    "collapsed": false,
    "jupyter": {
     "outputs_hidden": false
    }
   },
   "source": [
    "## 2.1 Kiểu dữ liệu cơ bản\n",
    "Giống với các ngôn ngữ lập trình khác, Python cũng có các kiểu dữ liệu cơ bản như integers (số\n",
    "nguyên), floats (số thực), booleans (kiểu dữ liệu True/False) và strings (chuỗi).\n",
    "Để khai báo biến trong Python không cần chỉ định kiểu dữ liệu trước như những ngôn ngữ\n",
    "khác mà khi ta gán dữ liệu cho biến thì python tự gán kiểu phù hợp cho biến\n",
    "\n",
    "### 2.1.1 numbers (số)"
   ]
  },
  {
   "metadata": {},
   "cell_type": "code",
   "outputs": [],
   "execution_count": null,
   "source": [
    "x=3\n",
    "print(type(x))\n",
    "print(x)\n",
    "print(x + 1)\n",
    "print(x - 1)\n",
    "print(x * 2)\n",
    "print(x ** 2)\n",
    "x += 1\n",
    "print(x)\n",
    "x *= 2\n",
    "print(x)\n",
    "y = 2.5\n",
    "print(type(y))\n",
    "print(y, y + 1, y * 2, y ** 2)"
   ],
   "id": "1a8f2788f64d1468"
  },
  {
   "metadata": {},
   "cell_type": "markdown",
   "source": "",
   "id": "c872c241e62665d6"
  },
  {
   "cell_type": "markdown",
   "id": "80f11442d082614e",
   "metadata": {
    "collapsed": false,
    "jupyter": {
     "outputs_hidden": false
    }
   },
   "source": "### 2.1.2 Boolean\n"
  },
  {
   "cell_type": "code",
   "id": "d1eca69f491bf9c1",
   "metadata": {
    "collapsed": false,
    "jupyter": {
     "outputs_hidden": false
    }
   },
   "source": [
    "t = True\n",
    "f = False\n",
    "print(type(t))\n",
    "print(t and f)\n",
    "print(t or f)\n",
    "print(not t)\n",
    "print(t != f)"
   ],
   "outputs": [],
   "execution_count": null
  },
  {
   "cell_type": "markdown",
   "id": "3985abd5db95c856",
   "metadata": {
    "collapsed": false,
    "jupyter": {
     "outputs_hidden": false
    }
   },
   "source": [
    "### 2.1.3 Strings (chuỗi)\n",
    "Chuỗi trong Python có thể được đặt trong dấu nháy đơn ('...') hoặc dấu nháy kép (\"...\") với"
   ]
  },
  {
   "cell_type": "code",
   "id": "8a31cdbab0a92ba5",
   "metadata": {
    "collapsed": false,
    "jupyter": {
     "outputs_hidden": false
    }
   },
   "source": [
    "hello = 'hello'\n",
    "world = \"world\"\n",
    "print(hello)\n",
    "print(len(hello))\n",
    "hw = hello + ' ' + world\n",
    "print(hw)\n",
    "hw12 = '%s %s %d' % (hello, world, 12)\n",
    "print(hw12)"
   ],
   "outputs": [],
   "execution_count": null
  },
  {
   "cell_type": "code",
   "id": "37463c1997eaf600",
   "metadata": {
    "collapsed": false,
    "jupyter": {
     "outputs_hidden": false
    }
   },
   "source": [
    "s = \"hello\"\n",
    "print(s.capitalize())\n",
    "print(s.upper())\n",
    "print(s.rjust(7))"
   ],
   "outputs": [],
   "execution_count": null
  },
  {
   "cell_type": "markdown",
   "id": "2c4a6ecea8573a63",
   "metadata": {
    "collapsed": false,
    "jupyter": {
     "outputs_hidden": false
    }
   },
   "source": [
    "## 2.2 Containers\n",
    "Python cung cấp nhiều cấu trúc dữ liệu để lưu trữ nhiều dữ liệu khác nhau. Các cấu trúc dữ liệu\n",
    "### 2.2.1 List"
   ]
  },
  {
   "cell_type": "code",
   "id": "b675b1cb7cc7e768",
   "metadata": {
    "collapsed": false,
    "jupyter": {
     "outputs_hidden": false
    }
   },
   "source": [
    "xs = [3, 1, 2]\n",
    "print(xs, xs[2])\n",
    "print(xs[-1])\n",
    "xs[2] = 'foo'\n",
    "print(xs)\n",
    "xs.append('bar')\n",
    "print(xs)\n",
    "x = xs.pop()\n",
    "print(x, xs)"
   ],
   "outputs": [],
   "execution_count": null
  },
  {
   "cell_type": "markdown",
   "id": "33d6d96192e54ce5",
   "metadata": {
    "collapsed": false,
    "jupyter": {
     "outputs_hidden": false
    }
   },
   "source": [
    "Sclicing: Python cung cấp cú pháp đặc biệt để truy cập một phần của list, được gọi là slicing:"
   ]
  },
  {
   "cell_type": "code",
   "id": "abe4cb0efeddab02",
   "metadata": {
    "collapsed": false,
    "jupyter": {
     "outputs_hidden": false
    }
   },
   "source": [
    "nums = list(range(5))\n",
    "print(nums)\n",
    "print(nums[2:4])\n",
    "print(nums[2:])\n",
    "print(nums[:2])\n",
    "print(nums[:])\n",
    "print(nums[:-1])\n",
    "nums[2:4] = [8, 9]\n",
    "print(nums)"
   ],
   "outputs": [],
   "execution_count": null
  },
  {
   "cell_type": "markdown",
   "id": "9fdb7bc809488748",
   "metadata": {
    "collapsed": false,
    "jupyter": {
     "outputs_hidden": false
    }
   },
   "source": "### 2.2.2 Dictionaries"
  },
  {
   "cell_type": "code",
   "id": "c08f613868e2af28",
   "metadata": {
    "collapsed": false,
    "jupyter": {
     "outputs_hidden": false
    }
   },
   "source": [
    "d = {'cat': 'cute', 'dog': 'furry'}\n",
    "print(d['cat'])\n",
    "print('cat' in d)\n",
    "d['fish'] = 'wet'\n",
    "del d['fish']"
   ],
   "outputs": [],
   "execution_count": null
  },
  {
   "cell_type": "code",
   "id": "c9f064f167ca6380",
   "metadata": {
    "collapsed": false,
    "jupyter": {
     "outputs_hidden": false
    }
   },
   "source": [
    "d= {'person': 2, 'cat': 4, 'spider': 8}\n",
    "for animal in d:\n",
    "    legs = d[animal]\n",
    "    print('A %s has %d legs' % (animal, legs))\n",
    "    \n",
    "for animal, legs in d.items():\n",
    "    print('A %s has %d legs' % (animal, legs))"
   ],
   "outputs": [],
   "execution_count": null
  },
  {
   "cell_type": "markdown",
   "id": "4b85a83f512ffd0c",
   "metadata": {
    "collapsed": false,
    "jupyter": {
     "outputs_hidden": false
    }
   },
   "source": [
    "## 2.3 Function (Hàm)\n",
    "Function trong Python được định nghĩa bằng từ khóa def. Ví dụ:"
   ]
  },
  {
   "cell_type": "code",
   "id": "b61c35105d6ed215",
   "metadata": {
    "collapsed": false,
    "jupyter": {
     "outputs_hidden": false
    }
   },
   "source": [
    "def sign(x):\n",
    "    if x > 0:\n",
    "        return 'positive'\n",
    "    elif x < 0:\n",
    "        return 'negative'\n",
    "    else:\n",
    "        return 'zero'\n",
    "    \n",
    "for x in [-1, 0, 1]:\n",
    "    print(sign(x))"
   ],
   "outputs": [],
   "execution_count": null
  },
  {
   "cell_type": "markdown",
   "id": "32e184ce3d155d3d",
   "metadata": {
    "collapsed": false,
    "jupyter": {
     "outputs_hidden": false
    }
   },
   "source": [
    "## 2.4 Thư viện (Library)\n",
    "Thư viện trong Python giống như các thư viện trong các ngôn ngữ lập trình khác, chúng cung cấp\n",
    "các hàm và cấu trúc dữ liệu sẵn có để giúp chúng ta giải quyết các vấn đề cụ thể. Một số thư\n",
    "viện phổ biến trong Python như: Numpy, Scipy, Pandas, Matplotlib, Scikit-learn, TensorFlow,\n",
    "Pytorch, Keras, OpenCV, …\n"
   ]
  },
  {
   "cell_type": "markdown",
   "id": "1efefdad82db4b95",
   "metadata": {
    "collapsed": false,
    "jupyter": {
     "outputs_hidden": false
    }
   },
   "source": [
    "## 2.5 Thư viện Numpy\n",
    "Numpy là một thư viện quan trọng trong Python, cung cấp nhiều hàm và cấu trúc dữ liệu mạnh mẽ\n",
    "được sử dụng rộng rãi trong tính toán khoa học và máy học. Một trong những cấu trúc dữ liệu\n",
    "quan trọng nhất trong Numpy là mảng đa chiều (n-dimensional array) hay ndarray. Mảng đa chiều"
   ]
  },
  {
   "cell_type": "code",
   "id": "42f283bf5392a5fc",
   "metadata": {
    "collapsed": false,
    "jupyter": {
     "outputs_hidden": false
    }
   },
   "source": [
    "import numpy as np\n",
    "a = np.array([1, 2, 3])\n",
    "print(type(a))\n",
    "print(a.shape)\n",
    "print(a[0], a[1], a[2])\n",
    "a[0] = 5\n",
    "print(a)\n",
    "b = np.array([[1, 2, 3], [4, 5, 6]])\n",
    "print(b.shape)\n",
    "print(b[0, 0], b[0, 1], b[1, 0])"
   ],
   "outputs": [],
   "execution_count": null
  },
  {
   "cell_type": "code",
   "id": "86e49f57ea8832e3",
   "metadata": {
    "collapsed": false,
    "jupyter": {
     "outputs_hidden": false
    }
   },
   "source": [
    "a = np.zeros((2, 2))\n",
    "print(a)\n",
    "b = np.ones((1, 2))\n",
    "print(b)\n",
    "c = np.full((2, 2), 7)\n",
    "print(c)\n",
    "d = np.eye(2)\n",
    "print(d)\n",
    "e = np.random.random((2, 2))\n",
    "print(e)"
   ],
   "outputs": [],
   "execution_count": null
  },
  {
   "cell_type": "markdown",
   "id": "ed01c4234b5b24dd",
   "metadata": {
    "collapsed": false,
    "jupyter": {
     "outputs_hidden": false
    }
   },
   "source": "### 2.5.1 Array indexing"
  },
  {
   "cell_type": "code",
   "id": "c3c08f314b32d210",
   "metadata": {
    "collapsed": false,
    "jupyter": {
     "outputs_hidden": false
    }
   },
   "source": [
    "import numpy as np\n",
    "a = np.array([[1, 2, 3, 4], [5, 6, 7, 8], [9, 10, 11, 12]])\n",
    "print(a)\n",
    "b = a[:2, 1:3]\n",
    "print(b)\n",
    "print(a[0, 1])\n",
    "b[0, 0] = 77"
   ],
   "outputs": [],
   "execution_count": null
  },
  {
   "cell_type": "code",
   "id": "a3aba01440515d55",
   "metadata": {
    "collapsed": false,
    "jupyter": {
     "outputs_hidden": false
    }
   },
   "source": [
    "import numpy as np\n",
    "a= np.array([[1, 2, 3, 4], [5, 6, 7, 8], [9, 10, 11, 12]])\n",
    "row_r1 = a[1, :]\n",
    "row_r2 = a[1:2, :]\n",
    "print(row_r1, row_r1.shape)\n",
    "print(row_r2, row_r2.shape)"
   ],
   "outputs": [],
   "execution_count": null
  },
  {
   "cell_type": "markdown",
   "id": "5cef6736dd79e2a0",
   "metadata": {
    "collapsed": false,
    "jupyter": {
     "outputs_hidden": false
    }
   },
   "source": "### 2.5.2 Các phép tinhs toán trên mảng"
  },
  {
   "cell_type": "code",
   "id": "e2fc9516efee250e",
   "metadata": {
    "collapsed": false,
    "jupyter": {
     "outputs_hidden": false
    }
   },
   "source": [
    "import numpy as np\n",
    "x = np.array([[1, 2], [3, 4]], dtype=np.float64)\n",
    "y = np.array([[5, 6], [7, 8]], dtype=np.float64)\n",
    "print(x + y)\n",
    "print(np.add(x, y))\n",
    "print(x - y)\n",
    "print(np.subtract(x, y))\n",
    "# nhân từng phần tử\n",
    "print(x * y)\n",
    "print(np.multiply(x, y))\n",
    "print(x / y)\n",
    "print(np.divide(x, y))\n",
    "print(np.sqrt(x))"
   ],
   "outputs": [],
   "execution_count": null
  },
  {
   "cell_type": "code",
   "id": "7707bc3315464faa",
   "metadata": {
    "collapsed": false,
    "jupyter": {
     "outputs_hidden": false
    }
   },
   "source": [
    "import numpy as np \n",
    "x = np.array([[1, 2], [3, 4]])\n",
    "y = np.array([[5, 6], [7, 8]])\n",
    "v = np.array([9, 10])\n",
    "w = np.array([11, 12])\n",
    "print(v.dot(w))\n",
    "print(np.dot(v, w))\n",
    "print(x.dot(v))\n",
    "print(np.dot(x, v))"
   ],
   "outputs": [],
   "execution_count": null
  },
  {
   "cell_type": "code",
   "id": "b86a92d901e3c6f4",
   "metadata": {
    "collapsed": false,
    "jupyter": {
     "outputs_hidden": false
    }
   },
   "source": [
    "import numpy as np\n",
    "x = np.array([[1, 2], [3, 4]])\n",
    "print(np.sum(x))\n",
    "print(np.sum(x, axis=0))\n",
    "print(np.sum(x, axis=1))"
   ],
   "outputs": [],
   "execution_count": null
  },
  {
   "cell_type": "markdown",
   "id": "d6fee694c463fea8",
   "metadata": {
    "collapsed": false,
    "jupyter": {
     "outputs_hidden": false
    }
   },
   "source": [
    "### 2.5.3 Broadcasting\n",
    "Broadcasting là một cơ chế mạnh mẽ cho phép Numpy thực hiện các phép toán trên các mảng có\n",
    "kích thước khác nhau. Ví dụ:"
   ]
  },
  {
   "cell_type": "code",
   "id": "afa2ffc28e92ce27",
   "metadata": {
    "collapsed": false,
    "jupyter": {
     "outputs_hidden": false
    }
   },
   "source": [
    "x = np.array([[1, 2, 3], [4, 5, 6], [7, 8, 9], [10, 11, 12]])\n",
    "v = np.array([1, 0, 1])\n",
    "y = np.empty_like(x)\n",
    "for i in range(4):\n",
    "    y[i, :] = x[i, :] + v\n",
    "print(y)\n",
    "print(x+v)"
   ],
   "outputs": [],
   "execution_count": null
  },
  {
   "cell_type": "markdown",
   "id": "7a690016215aab6d",
   "metadata": {
    "collapsed": false,
    "jupyter": {
     "outputs_hidden": false
    }
   },
   "source": [
    "## 2.6 Matplotlib\n",
    "Thư viện Matplotlib cung cấp các hàm để vẽ đồ thị, biểu đồ, hình ảnh, …"
   ]
  },
  {
   "cell_type": "code",
   "id": "551cd74ddb4f2a5",
   "metadata": {
    "collapsed": false,
    "jupyter": {
     "outputs_hidden": false
    }
   },
   "source": [
    "import numpy as np\n",
    "import matplotlib.pyplot as plt \n",
    "\n",
    "x = np.arange(0, 3 * np.pi, 0.1)\n",
    "y = np.sin(x)\n",
    "plt.plot(x, y)\n",
    "plt.show()"
   ],
   "outputs": [],
   "execution_count": null
  },
  {
   "cell_type": "code",
   "id": "d111762e354bd76a",
   "metadata": {
    "collapsed": false,
    "jupyter": {
     "outputs_hidden": false
    }
   },
   "source": [
    "import numpy as np\n",
    "import matplotlib.pyplot as plt\n",
    "x = np.arange(0, 3 * np.pi, 0.1)\n",
    "y_sin = np.sin(x)\n",
    "y_cos = np.cos(x)\n",
    "plt.plot(x, y_sin)\n",
    "plt.plot(x, y_cos)\n",
    "plt.xlabel('x axis label')\n",
    "plt.ylabel('y axis label')\n",
    "plt.title('Sine and Cosine')\n",
    "plt.legend(['Sine', 'Cosine'])\n",
    "plt.show()"
   ],
   "outputs": [],
   "execution_count": null
  },
  {
   "cell_type": "code",
   "id": "cbaf7a3d0dcdc6a9",
   "metadata": {
    "collapsed": false,
    "jupyter": {
     "outputs_hidden": false
    }
   },
   "source": [
    "import numpy as np\n",
    "import matplotlib.pyplot as plt\n",
    "# Tính tọa độ x, y cho đồ thị sin, cos\n",
    "x = np.arange(0, 3 * np.pi, 0.1)\n",
    "y_sin = np.sin(x)\n",
    "y_cos = np.cos(x)\n",
    "# Vẽ đồ thị sin\n",
    "plt.subplot(2, 1, 1)\n",
    "plt.plot(x, y_sin)\n",
    "plt.title('Sine')\n",
    "# Vẽ đồ thị cos\n",
    "plt.subplot(2, 1, 2)\n",
    "plt.plot(x, y_cos)\n",
    "plt.title('Cosine')\n",
    "plt.show()"
   ],
   "outputs": [],
   "execution_count": null
  },
  {
   "cell_type": "markdown",
   "id": "ab49c954c812622c",
   "metadata": {
    "collapsed": false,
    "jupyter": {
     "outputs_hidden": false
    }
   },
   "source": [
    "<h1 style = \"text-align: center \">3. Linear Regression</h1>"
   ]
  },
  {
   "cell_type": "markdown",
   "id": "3e4b581c6eb9cf44",
   "metadata": {
    "collapsed": false,
    "jupyter": {
     "outputs_hidden": false
    }
   },
   "source": [
    "## 3.1 Bài toán\n",
    "\n",
    "## 3.2 Công thức\n",
    "### 3.2.1 Model\n",
    "$$ \\hat{y_i} = w_1 * x_i +w_0 $$\n",
    "### 3.2.2 Loss function \n",
    "$$ L(\\mathbf{w}) = \\frac{1}{n} \\sum_{i=1}^{N} (y_i - \\hat{y_i})^2 $$  \n",
    "(N là số điểm dữ liệu)\n",
    "\n",
    "## 3.3 Thuật toán Gradient Descent\n",
    "### 3.3.1 Đạo hàm\n",
    "là độ dốc của đồ thị \n",
    "### 3.3.2 Gradient Descent\n",
    "1. Khởi tạo $x = x_0$ tùy ý\n",
    "2. Gán $x = x - learning\\_rate * f'(x)$\n",
    "### 3.3.3 Áp dụng \n",
    "$$ J(w_0, w_1) = \\frac{1}{n} \\sum_{i=1}^{N} (y_i - \\hat{y_i})^2 = \\frac{1}{n} \\sum_{i=1}^{N} (y_i - (w_1 * x_i + w_0))^2 $$\n",
    "$$ \\frac{dJ}{dw_0} = \\sum_{i=1}^{N} (w_0+w_1*x_i-y_i) $$\n",
    "$$ \\frac{dJ}{dw_1} = \\sum_{i=1}^{N} x_i(w_0+w_1*x_i-y_i) $$\n",
    "\n",
    "## 3.4 So sánh loss function\n",
    "### 3.4.1 Mean Absolute Error, L1 loss\n",
    "$$ MAE = \\frac{ \\sum_{i=1}^{n} |y_i - \\hat{y_i}| }{n}  $$\n",
    "### 3.4.2 Mean Squared Error, L2 loss\n",
    "$$ MSE = \\frac{ \\sum_{i=1}^{n} (y_i - \\hat{y_i})^2 }{n}  $$\n",
    "### 3.4.3 So sánh MAE và MSE\n",
    "MAE và MSE đều là các phương pháp đo lường sự chênh lệch giữa giá trị dự đoán và giá trị thực tế. Tuy nhiên, MSE đánh giá sự chênh lệch bình phương giữa giá trị dự đoán và giá trị thực tế, trong khi MAE đánh giá sự chênh lệch tuyệt đối giữa giá trị dự đoán và giá trị thực tế. MSE thường được sử dụng trong các mô hình cần đánh giá sự chênh lệch lớn giữa giá trị dự đoán và giá trị thực tế, trong khi MAE thường được sử dụng trong các mô hình cần đánh giá sự chênh lệch nhỏ giữa giá trị dự đoán và giá trị thực tế. \n",
    "\n",
    "## 3.6 Giải bằng đại số tuyến tính\n",
    "$w = [w_0,w_1,w_2,...,w_m]^T$ là vecto hệ số cần tối ưu, bias\n",
    "$x^(i) = [1,x_1,x_2,...,x_m]$ là vecto thứ i trong bộ n\n",
    "\n",
    "## 3.7 Python code"
   ]
  },
  {
   "metadata": {},
   "cell_type": "code",
   "source": "",
   "id": "37f0360be3577e9b",
   "outputs": [],
   "execution_count": null
  },
  {
   "cell_type": "markdown",
   "id": "a1d7b80267e7ea94",
   "metadata": {},
   "source": [
    "## 3.8 Bài tập\n",
    "Bài 3: \n",
    "b) Code python dùng thuật toán Gradient descent để tìm giá trị nhỏ nhất của hàm $f(x)= x^2+2*x+5$"
   ]
  },
  {
   "cell_type": "code",
   "id": "f37e18bcbb73bfe9",
   "metadata": {},
   "source": [
    "import numpy as np\n",
    "# x^2 + 2*x + 5\n",
    "def grad(x):\n",
    "    return 2*x + 2\n",
    "\n",
    "def x_next(x, learning_rate):\n",
    "    return x - learning_rate * grad(x)\n",
    "\n",
    "x0 = float(input(\"khởi tạo giá trị x0=\"))\n",
    "learning_rate = float(input(\"Nhập learning rate: \"))\n",
    "\n",
    "for i in range(1000):\n",
    "    x0 = x_next(x0, learning_rate)\n",
    "    print(\"Lan thu\",i ,\"x = \", x0)\n",
    "    \n",
    "y = x0**2+2*x0+5    \n",
    "print (\"Giá trị nhỏ nhất của hàm số là: \", y)"
   ],
   "outputs": [],
   "execution_count": null
  },
  {
   "cell_type": "markdown",
   "id": "f2e1a82addbd824e",
   "metadata": {},
   "source": [
    "<h1 style = \"text-align: center \">4. Logistic Regression</h1>"
   ]
  },
  {
   "cell_type": "markdown",
   "id": "d19e3a9d6ffca5db",
   "metadata": {},
   "source": [
    "## 4.1 Bài toán\n",
    "Logistic Regression là một thuật toán học máy dùng để dự đoán xác suất của một biến phụ thuộc rời rạc dựa trên các biến độc lập. Trong Logistic Regression, biến phụ thuộc là một biến nhị phân.    \n",
    "## 4.2 Xác suất\n",
    "\n",
    "## 4.3 Hàm sigmoid\n",
    "$$ \\sigma(x) = \\frac{1}{1+e^{-x}} $$\n",
    "\n",
    "## 4.4 Thiết lập bài toán\n",
    "\n",
    "### 4.4.1 Model\n",
    "$$ \\hat{y_i} = \\sigma( w_0 + w1*x_1^{(i)} + w_2*x_2^{(i)} ) =\\frac{1}{1+e^{w_0 + w1*x_1^{(i)} + w_2*x_2^{(i)}} } $$\n",
    "\n",
    "### 4.4.2 Loss function\n",
    "Hàm loss function trên toàn bộ dữ liệu\n",
    "$$ J = -\\frac{1}{n} \\sum_{i=1}^{N}( y_i*log(\\hat{y_i}) + (1-y_i)*log(1-\\hat{y_i}) )$$\n",
    "\n",
    "## 4.5 Chain rule\n",
    "Nếu $y = f(u)$ và $u = g(x)$ thì: $$ \\frac{dy}{dx} = \\frac{dy}{du} * \\frac{du}{dx} $$\n",
    "Ví dụ cho hàm $y = f(u) = \\frac{1}{u}$ và $u = g(x) = x^2$ thì: $$ \\frac{dy}{dx} = \\frac{dy}{du} * \\frac{du}{dx} = -\\frac{1}{u^2} * 2x = -\\frac{2x}{x^4} = -\\frac{2}{x^3} $$\n",
    "\n",
    "### 4.5.1 Áp dụng Gradient Descent\n",
    "Ta có \n",
    " $$L = -(y_i*log(\\hat{y_i}) + (1-y_i)*log(1-\\hat{y_i})) $$\n",
    " Trong đó: $\\hat{y_i} = \\sigma( w_0 + w1*x_1^{(i)} + w_2*x_2^{(i)} )= \\sigma(z)$\n",
    "$$z = w_0 + w1*x_1^{(i)} + w_2*x_2^{(i)} $$ \n",
    "\n",
    "Áp dụng Chain rule:\n",
    "$$ \\frac{dL}{dw_0} = \\frac{dL}{d\\hat{y_i}} * \\frac{d\\hat{y_i}}{dz} * \\frac{dz}{dw_0} $$\n",
    " \n",
    "### 4.5.2 Biểu diễn bài toán dưới dạng ma trận \n",
    "\n",
    "### 4.5.3 Hàm sigmoid được chọn để đạo hàm đẹp\n",
    "Ta có \n",
    "$$ \\frac{dL}{dw_0} = \\frac{dL}{d\\hat{y_i}} * \\frac{d\\hat{y_i}}{dz} * \\frac{dz}{dw_0} $$\n",
    "$$ \\frac{dL}{d\\hat{y}_i} = -\\frac{d(y_i*log(\\hat{y_i}) + (1-y_i)*log(1-\\hat{y_i}))}{d\\hat{y_i}} = -\\frac{y_i}{\\hat{y_i}} + \\frac{1-y_i}{1-\\hat{y_i}} = \\frac{\\hat{y_i} - y_i}{\\hat{y_i}*(1-\\hat{y_i})} $$\n",
    "\n",
    "$$ \\hat{y} = \\frac{e^z}{1+e^z} = \\frac{1}{1+e^{-x}} = \\sigma(x) $$\n",
    "\n",
    "## 4.6 Quan hệ giữa phần trăm và đường thẳng\n",
    "\n",
    "## 4.7 Ứng dụng\n",
    "\n",
    "## 4.8 Python code"
   ]
  },
  {
   "cell_type": "code",
   "id": "941ee6a44c1552cb",
   "metadata": {},
   "source": [],
   "outputs": [],
   "execution_count": null
  },
  {
   "cell_type": "markdown",
   "id": "38a6087868203536",
   "metadata": {},
   "source": [
    "<h1 style = \"text-align: center; color: red \">5. Neural network</h1>\n"
   ]
  },
  {
   "cell_type": "markdown",
   "id": "5b9406a8bda75854",
   "metadata": {},
   "source": [
    "## 5.1 Neural network \n",
    "Con chó có thể phân biệt được người thân trong gia đình và người lạ hay đứa trẻ có thể phân biệt được\n",
    "các con vật. Những việc tưởng chừng như rất đơn giản nhưng lại cực kì khó để thực hiện bằng máy\n",
    "tính. Vậy sự khác biệt nằm ở đâu? Câu trả lời nằm ở cấu trúc bộ não với lượng lớn các nơ-ron thần\n",
    "kinh liên kết với nhau. Liệu máy tính có thể mô phỏng lại cấu trúc bộ não để giải các bài toán trên ???\n",
    "Neural là tính từ của neuron (nơ-ron), network chỉ cấu trúc, cách các nơ-ron đó liên kết với\n",
    "nhau, nên neural network (NN) là một hệ thống tính toán lấy cảm hứng từ sự hoạt động của các\n",
    "nơ-ron trong hệ thần kinh. \n",
    "### 5.1.1 Cấu trúc của Neural network\n",
    "\n",
    "## 5.2 Mô hình neural network\n",
    "### 5.5.2 Logistic regression\n",
    "Logistic regression là một mô hình neural network đơn giản nhất, chỉ gồm một layer đầu vào và một\n",
    "layer đầu ra.\n",
    "### 5.5.3 Mô hình tổng quát\n",
    "### 5.5.2 Kí hiệu\n",
    "Số node trong hidden layer thứ i là $l^{(i)}$   \n",
    "Ma trận $W^{(i)}$ kích thước $l^{(k-1)} * l^{(k)}$ là ma trận hệ số giữa layer (k-1) và layer k, trong đó \n",
    "$w^{(i)}_{jk}$ là hệ số kết nối giữa node i của layer k-1 đến node thứ j của layer k\n",
    "\n",
    "Vector $b^{(i)}$ kích thước $l^{(i)}*1$ là sệ số __bias__ của các node trong layer k, trong đó b^{(k)}_i là bía của node thứ i trong layer k\n",
    "Với node thứ i trong layer l có bias b^{(l)}_i thực hiện 2 bước:\n",
    "\n",
    "Tính tổng linear: $ z^{(l)}_i = \\sum_{j=1}^{l^{(l-1)}}  a^{(l-1)}_j * w^{(l)}_{ij} + b^{(l)}_i $\n",
    "Áp dụng activation function: $ a^{(l)}_i = \\sigma(z^{(l)}_i) $\n"
   ]
  },
  {
   "metadata": {},
   "cell_type": "markdown",
   "source": [
    "## 5.3 Feedforward\n",
    "### 5.3.1 Biểu diễn dưới dạng ma trận \n",
    "\n",
    "$x^{[i]}_j$ là giá trị trường (cột) dữ liệu thứ j của dữ liệu thứ i ( hàng thứ i)\n",
    "Công thức:\n",
    "$$\n",
    "X = \n",
    "\\begin{bmatrix}\n",
    "a_{1}^{[1]} & a_{2}^{[1]} & \\ldots & a_{d}^{[1]} \\\\\n",
    "a_{1}^{[2]} & a_{2}^{[2]} & \\ldots & a_{d}^{[2]} \\\\\n",
    "\\vdots & \\vdots & \\ddots & \\vdots \\\\\n",
    "a_{1}^{[n]} & a_{2}^{[n]} & \\ldots & a_{d}^{[n]}\n",
    "\\end{bmatrix}\n",
    "=\n",
    "\\begin{bmatrix}\n",
    "- & a^{[1]} & - \\\\\n",
    "- & a^{[2]} & - \\\\\n",
    "- & \\vdots & - \\\\\n",
    "- & a^{[n]} & -\n",
    "\\end{bmatrix}\n",
    "$$\n",
    "\n",
    "Tiếp \n",
    "\n",
    "$$\n",
    "Z^{(i)} =\n",
    "\\begin{bmatrix}\n",
    "z^{(i)[1]} & z^{(i)[1]} & \\ldots & z^{(i)[1]} \\\\\n",
    "z^{(i)[2]} & z^{(i)[2]} & \\ldots & z^{(i)[2]} \\\\\n",
    "\\vdots & \\vdots & \\ddots & \\vdots \\\\\n",
    "z^{(i)[n]} & z^{(i)[n]} & \\ldots & z^{(i)[n]}\n",
    "\\end{bmatrix}\n",
    "=\n",
    "\\begin{bmatrix}\n",
    "- & (z^{(i)[1]})^T & - \\\\\n",
    "- & (z^{(i)[2]})^T & - \\\\\n",
    "- & \\vdots & - \\\\\n",
    "- & (z^{(i)[n]})^T & -\n",
    "\\end{bmatrix}\n",
    "$$\n",
    "\n",
    "\n",
    "\n"
   ],
   "id": "21bcb063d28526dd"
  },
  {
   "metadata": {},
   "cell_type": "markdown",
   "source": [
    "## 5.4 Logistic regression với toán tử XOR\n",
    "### 5.4.1 NOT\n",
    "### 5.4.2 AND\n",
    "### 5.4.3 OR\n",
    "### 5.4.4 XOR\n",
    "## 5.5  Bài tập\n"
   ],
   "id": "433ccce086b2ae5f"
  },
  {
   "metadata": {},
   "cell_type": "markdown",
   "source": "<h1 style = \"text-align: center; color: red \">6. Backpropagation </h1>",
   "id": "6843209c303de8f7"
  },
  {
   "metadata": {},
   "cell_type": "markdown",
   "source": "",
   "id": "24c2eb9fa45752ff"
  },
  {
   "metadata": {},
   "cell_type": "markdown",
   "source": [
    "# 6. Backpropagation\n",
    "\n",
    "## 6.1 Bài toán XOR với neural network\n",
    "### 6.1.1 Model\n",
    "Feedforward \n",
    "$$ z^{[1]} = b^{[1]}_1 + w^{[1]}_{11}x_1 + w^{[1]}_{12}x_2 $$\n",
    "$$ a^{[1]} = \\sigma(z^{[1]}) $$\n",
    "$$ z^{[2]} = b^{[2]}_1 + w^{[2]}_{11}a^{[1]} + w^{(1)}_{22}$$\n",
    "$$ a^{[2]} = \\sigma(z^{[2]}) $$\n",
    "\n",
    "feedforward dạng ma trận\n",
    "$$ z^{[1]} = W^{[1]}X + b^{[1]} $$ \n",
    "$$ A^{[1]} = \\sigma(Z^{[1]}) $$\n",
    "$$ Z^{[2]} = W^{[2]}A^{[1]} + b^{[2]} $$\n",
    "$$ A^{[2]} = \\sigma(Z^{[2]}) $$"
   ],
   "id": "95768c4cd92bd6b3"
  },
  {
   "metadata": {},
   "cell_type": "markdown",
   "source": [
    "\n",
    "### 6.1.2 Loss function\n",
    "\n",
    "### 6.1.3 Gradient Descent\n",
    "Để áp dụng gradient descent ta cần tính được đạo hàm của các hệ số W và bias b với hàm loss"
   ],
   "id": "380d92bf4aafb7ea"
  },
  {
   "metadata": {},
   "cell_type": "markdown",
   "source": [
    "## 6.2 Mô hình tông quát\n",
    "## 6.3 Python code"
   ],
   "id": "743b2ca82d5a4bdc"
  },
  {
   "metadata": {},
   "cell_type": "markdown",
   "source": "## 6.4 Bài tập",
   "id": "86af52650e98a361"
  },
  {
   "metadata": {},
   "cell_type": "markdown",
   "source": [
    "# 7. Giới thiệu về xử lý ảnh\n",
    "\n",
    "## 7.1 Ảnh trong máy tính\n",
    "\n",
    "### 7.1.1 Hệ màu RGB\n",
    "\n",
    "### 7.1.2 Ảnh màu\n",
    "\n",
    "### 7.1.3 Tensor\n",
    "** Dữ liệu biểu diễn dạng \n",
    "1 chiều -> vector\n",
    "2 chiều -> ma trận\n",
    "3 chiều -> tensor\n",
    "\n",
    "### 7.1.4                          \n",
    "ảnh xám biểu diễn giá trị nguyên trong khoảng từ [0,255] thay vì (r,g,b)\n",
    "0 là đen\n",
    "255 là trắng\n",
    "\n",
    "### 7.1.5 Chuyển hệ màu của ảnh\n",
    "$x = r*0.299 + g*0.587 + b*0.114$"
   ],
   "id": "e1b17ba0dd77082c"
  },
  {
   "metadata": {},
   "cell_type": "markdown",
   "source": [
    "\n",
    "## 7.2 Phép tính convolution\n",
    "### 7.2.1 Convolution\n",
    "kernel là 1 ma trận vuông kích thước k*k trong đó k là số lẻ 1, 3, 5, 7, 9, ...\n",
    "Ví dụ kernel 3*3\n",
    "$$ W = \n",
    "\\begin{bmatrix}\n",
    "1 & 0 & 1 \\\\\n",
    "0 & 1 & 0 \\\\\n",
    "1 & 0 & 1\n",
    "\\end{bmatrix}\n",
    "$$\n",
    "\n",
    "Phép tính convolution \n",
    "\n"
   ],
   "id": "66d8ea40ecfaf397"
  },
  {
   "metadata": {},
   "cell_type": "markdown",
   "source": [
    "### 7.2.2 Padding\n",
    "Thêm gía trị 0 ở viền ngoài ma trận X\n",
    "Y thu được sẽ có kich thước bằng ma trận X ban đầu.\n",
    "Phép tính này là convolution với padding=1  thêm k vectỏ 0 vào mỗi phía của ma trận\n",
    "\n",
    "### 7.2.3 Stride \n",
    "tuần tự các phần tử trong ma trận X thu được Y cùng kích thước $Y = X \\otimes Y $\n"
   ],
   "id": "126fa284a14c3200"
  },
  {
   "metadata": {},
   "cell_type": "markdown",
   "source": [
    "### 7.2.4 Ý nghĩa của phép tính convolution\n",
    "Phép tính convolution trên ảnh là làm mờ, làm nét ảnh; xác định các đường;... \n",
    "kernel khác nhau thì phép tính convolution có ý nghĩa khác nhau\n",
    "\n",
    "## 7.3 Bài tập "
   ],
   "id": "ac0a6996fd6c73c0"
  },
  {
   "metadata": {},
   "cell_type": "markdown",
   "source": [
    "# 8. Convoluion Neural Network\n",
    "## 8.1 Thiết lập bài toán\n",
    "Bài toán: Input một ảnh màu kích thước 64*64,output ảnh có chứa mặt người hay không\n",
    "## 8.2 Convolutional Neural Network\n",
    "### 8.2.1 Convolutional layer\n",
    "Các bài trước đều là fully connected layer, mỗi node kết nối với tất cả các node ở layer trước\n",
    "\n",
    "* Vấn đề của fully connected neural network với xử lý ảnh \n",
    "ảnh màu 64*64 biểu diễn dạng tensor 64*64*3.\n",
    "Nên để hiển thị hết các pixel (64*64*3=12288) input layer là 12288 nodes.\n",
    "\n",
    "Nếu kích thước ảnh tăng thì số lượng tham số cũng tăng rất nhanh => cần giải pháp !!!\n",
    "\n",
    "* Convolution layer đầu tiên \n",
    "\n",
    "* Convolutionl layer tổng quát \n",
    "\n",
    "tensor kích thước $H*D*W$ \n",
    "kernel có kích thước $F*F*D$ (kernel luôn có depth của input và F là số lẻ), stride: S, padding:P.\n",
    "Convolutional áp dụng K kernel.\n",
    "kernel có kích thước $F*F*D$ , stride: S, padding: P\n",
    "convolution layer áp dụng K kernel\n",
    "=> Output của layer là tensor 3 chiều kích thước $ ( \\frac{H-F+2P}{S} + 1 )*( \\frac{W-F+2P}{S} + 1 )*K $\n",
    "\n",
    "### 8.2.2 Pooling layer\n"
   ],
   "id": "710ada7ba922a1e"
  },
  {
   "metadata": {},
   "cell_type": "markdown",
   "source": "## 8.3 Mạng VGG 16",
   "id": "8aba5ef4e3808ee1"
  },
  {
   "metadata": {},
   "cell_type": "markdown",
   "source": [
    "## 8.4 Visual Convolutional Neural Network\n",
    "Bên trong những mô hình học sâu thực sự vẫn được coi là những chiếc hộp đen, 2 vấn đề chúng ta cần biết\n",
    "* Để hiểu mô hình học sâu làm gì, từ đó có những giải pháp cải tiến mô hình\n",
    "* Nhiều bài toán liên quan đến pháp lý cần lời giải thích hợp lý cho phương hướng giải quyết hơn là chấp nhận chiếc hôp đen\n",
    "\n",
    "mạng CNN có thể trực quan hóa mô hình làm những gì. Có 3 thành phần quan trọng trong mô hình CNN có thể visualize để hiểu CNN thực hiện việc gì:\n",
    "* Feature map\n",
    "* Convnet Filters\n",
    "* Class Output"
   ],
   "id": "3149f075afb8473c"
  },
  {
   "metadata": {},
   "cell_type": "markdown",
   "source": "## 8.4 Visualizing Feature Map\n",
   "id": "278ebf7b0c9ff1fb"
  },
  {
   "metadata": {},
   "cell_type": "markdown",
   "source": "## 8.5 Bài tập",
   "id": "e96c6ddf71fcf899"
  },
  {
   "metadata": {},
   "cell_type": "markdown",
   "source": [
    "# 9. Giới thiệu về keras và bài toán phân loại\n",
    "## 9.1 Giới thiệu về keras\n",
    "Keras là một thư viện mã nguồn mở dùng để xây dựng các mô hình deep learning. Keras được thiết kế để tối ưu hóa việc xây dựng các mô hình deep learning, đồng thời hỗ trợ nhiều thư viện deep learning phổ biến như TensorFlow, Theano, CNTK. Keras cung cấp một API đơn giản, dễ sử dụng, linh hoạt và mạnh mẽ cho việc xây dựng các mô hình deep learning.\n",
    "\n",
    "1. Xây dựng bài toán\n",
    "2. Chuẩn bị dữ liệu (dataset)\n",
    "3. Xây dựng model\n",
    "4. Định nghĩa loss function\n",
    "5. Thực hiện backpropagation và áp dụng gradient descent để tìm các parameter gồm weight và\n",
    "bias để tối ưu loss function.\n",
    "6. Dự đoán dữ liệu mới bằng model với các hệ số tìm được ở trên\n",
    "\n",
    "## 9.2 MNIST Dataset\n",
    "\n",
    "## 9.3 Python code"
   ],
   "id": "6f058f908cbb5dbb"
  },
  {
   "metadata": {},
   "cell_type": "markdown",
   "source": "",
   "id": "287a475e582cce6b"
  },
  {
   "metadata": {},
   "cell_type": "markdown",
   "source": "# 10. Ứng dụng CNN cho ô tô tự lái",
   "id": "80f28deb23d7071c"
  }
 ],
 "metadata": {
  "kernelspec": {
   "display_name": "Python 3 (ipykernel)",
   "language": "python",
   "name": "python3"
  },
  "language_info": {
   "codemirror_mode": {
    "name": "ipython",
    "version": 3
   },
   "file_extension": ".py",
   "mimetype": "text/x-python",
   "name": "python",
   "nbconvert_exporter": "python",
   "pygments_lexer": "ipython3",
   "version": "3.11.7"
  }
 },
 "nbformat": 4,
 "nbformat_minor": 5
}
