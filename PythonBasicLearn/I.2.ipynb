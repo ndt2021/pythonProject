{
 "cells": [
  {
   "cell_type": "markdown",
   "source": [
    "# 2.1 Kiểu dữ liệu cơ bản\n",
    "Giống với các ngôn ngữ lập trình khác, Python cũng có các kiểu dữ liệu cơ bản như integers (số\n",
    "nguyên), floats (số thực), booleans (kiểu dữ liệu True/False) và strings (chuỗi).\n",
    "Để khai báo biến trong Python không cần chỉ định kiểu dữ liệu trước như những ngôn ngữ\n",
    "khác mà khi ta gán dữ liệu cho biến thì python tự gán kiểu phù hợp cho biến\n",
    "\n",
    "## 2.1.1 numbers (số)"
   ],
   "metadata": {
    "collapsed": false
   },
   "id": "7e882a969ae22a97"
  },
  {
   "cell_type": "code",
   "execution_count": 2,
   "outputs": [
    {
     "name": "stdout",
     "output_type": "stream",
     "text": [
      "<class 'int'>\n",
      "3\n",
      "4\n",
      "2\n",
      "6\n",
      "9\n",
      "4\n",
      "8\n",
      "<class 'float'>\n",
      "2.5 3.5 5.0 6.25\n"
     ]
    }
   ],
   "source": [
    "x=3\n",
    "print(type(x))\n",
    "print(x)\n",
    "print(x + 1)\n",
    "print(x - 1)\n",
    "print(x * 2)\n",
    "print(x ** 2)\n",
    "x += 1\n",
    "print(x)\n",
    "x *= 2\n",
    "print(x)\n",
    "y = 2.5\n",
    "print(type(y))\n",
    "print(y, y + 1, y * 2, y ** 2)"
   ],
   "metadata": {
    "collapsed": false,
    "ExecuteTime": {
     "end_time": "2024-04-13T16:19:44.471491Z",
     "start_time": "2024-04-13T16:19:44.470976300Z"
    }
   },
   "id": "initial_id"
  },
  {
   "cell_type": "markdown",
   "source": [
    "# 2.1.2 Boolean\n"
   ],
   "metadata": {
    "collapsed": false
   },
   "id": "80f11442d082614e"
  },
  {
   "cell_type": "code",
   "execution_count": null,
   "outputs": [],
   "source": [
    "t = True\n",
    "f = False\n",
    "print(type(t))\n",
    "print(t and f)\n",
    "print(t or f)\n",
    "print(not t)\n",
    "print(t != f)"
   ],
   "metadata": {
    "collapsed": false
   },
   "id": "d1eca69f491bf9c1"
  },
  {
   "cell_type": "markdown",
   "source": [
    "2.1.3 Strings (chuỗi)\n",
    "Chuỗi trong Python có thể được đặt trong dấu nháy đơn ('...') hoặc dấu nháy kép (\"...\") với"
   ],
   "metadata": {
    "collapsed": false
   },
   "id": "3985abd5db95c856"
  },
  {
   "cell_type": "code",
   "execution_count": 3,
   "outputs": [
    {
     "name": "stdout",
     "output_type": "stream",
     "text": [
      "hello\n",
      "5\n",
      "hello world\n",
      "hello world 12\n"
     ]
    }
   ],
   "source": [
    "hello = 'hello'\n",
    "world = \"world\"\n",
    "print(hello)\n",
    "print(len(hello))\n",
    "hw = hello + ' ' + world\n",
    "print(hw)\n",
    "hw12 = '%s %s %d' % (hello, world, 12)\n",
    "print(hw12)"
   ],
   "metadata": {
    "collapsed": false,
    "ExecuteTime": {
     "end_time": "2024-04-13T16:24:42.189466Z",
     "start_time": "2024-04-13T16:24:42.182265700Z"
    }
   },
   "id": "8a31cdbab0a92ba5"
  },
  {
   "cell_type": "code",
   "execution_count": null,
   "outputs": [],
   "source": [
    "s = \"hello\"\n",
    "print(s.capitalize())\n",
    "print(s.upper())\n",
    "print(s.rjust(7))"
   ],
   "metadata": {
    "collapsed": false
   },
   "id": "37463c1997eaf600"
  },
  {
   "cell_type": "markdown",
   "source": [
    "# 2.2 Containers\n",
    "Python cung cấp nhiều cấu trúc dữ liệu để lưu trữ nhiều dữ liệu khác nhau. Các cấu trúc dữ liệu\n",
    "## 2.2.1 List"
   ],
   "metadata": {
    "collapsed": false
   },
   "id": "2c4a6ecea8573a63"
  },
  {
   "cell_type": "code",
   "execution_count": null,
   "outputs": [],
   "source": [
    "xs = [3, 1, 2]\n",
    "print(xs, xs[2])\n",
    "print(xs[-1])\n",
    "xs[2] = 'foo'\n",
    "print(xs)\n",
    "xs.append('bar')\n",
    "print(xs)\n",
    "x = xs.pop()\n",
    "print(x, xs)"
   ],
   "metadata": {
    "collapsed": false
   },
   "id": "b675b1cb7cc7e768"
  },
  {
   "cell_type": "markdown",
   "source": [
    "Sclicing: Python cung cấp cú pháp đặc biệt để truy cập một phần của list, được gọi là slicing:"
   ],
   "metadata": {
    "collapsed": false
   },
   "id": "33d6d96192e54ce5"
  },
  {
   "cell_type": "code",
   "execution_count": 5,
   "outputs": [
    {
     "name": "stdout",
     "output_type": "stream",
     "text": [
      "[0, 1, 2, 3, 4]\n",
      "[2, 3]\n",
      "[2, 3, 4]\n",
      "[0, 1]\n",
      "[0, 1, 2, 3, 4]\n",
      "[0, 1, 2, 3]\n",
      "[0, 1, 8, 9, 4]\n"
     ]
    }
   ],
   "source": [
    "nums = list(range(5))\n",
    "print(nums)\n",
    "print(nums[2:4])\n",
    "print(nums[2:])\n",
    "print(nums[:2])\n",
    "print(nums[:])\n",
    "print(nums[:-1])\n",
    "nums[2:4] = [8, 9]\n",
    "print(nums)"
   ],
   "metadata": {
    "collapsed": false,
    "ExecuteTime": {
     "end_time": "2024-04-13T16:41:35.965851600Z",
     "start_time": "2024-04-13T16:41:35.963844500Z"
    }
   },
   "id": "abe4cb0efeddab02"
  },
  {
   "cell_type": "markdown",
   "source": [
    "## 2.2.2 Dictionaries"
   ],
   "metadata": {
    "collapsed": false
   },
   "id": "9fdb7bc809488748"
  },
  {
   "cell_type": "code",
   "execution_count": 1,
   "outputs": [
    {
     "name": "stdout",
     "output_type": "stream",
     "text": [
      "cute\n",
      "True\n"
     ]
    }
   ],
   "source": [
    "d = {'cat': 'cute', 'dog': 'furry'}\n",
    "print(d['cat'])\n",
    "print('cat' in d)\n",
    "d['fish'] = 'wet'\n",
    "del d['fish']"
   ],
   "metadata": {
    "collapsed": false,
    "ExecuteTime": {
     "end_time": "2024-04-14T05:55:10.123309100Z",
     "start_time": "2024-04-14T05:55:10.107391800Z"
    }
   },
   "id": "c08f613868e2af28"
  },
  {
   "cell_type": "code",
   "execution_count": null,
   "outputs": [],
   "source": [
    "d= {'person': 2, 'cat': 4, 'spider': 8}\n",
    "for animal in d:\n",
    "    legs = d[animal]\n",
    "    print('A %s has %d legs' % (animal, legs))\n",
    "    \n",
    "for animal, legs in d.items():\n",
    "    print('A %s has %d legs' % (animal, legs))"
   ],
   "metadata": {
    "collapsed": false
   },
   "id": "c9f064f167ca6380"
  },
  {
   "cell_type": "markdown",
   "source": [
    "# 2.3 Function (Hàm)\n",
    "Function trong Python được định nghĩa bằng từ khóa def. Ví dụ:"
   ],
   "metadata": {
    "collapsed": false
   },
   "id": "4b85a83f512ffd0c"
  },
  {
   "cell_type": "code",
   "execution_count": null,
   "outputs": [],
   "source": [
    "def sign(x):\n",
    "    if x > 0:\n",
    "        return 'positive'\n",
    "    elif x < 0:\n",
    "        return 'negative'\n",
    "    else:\n",
    "        return 'zero'\n",
    "    \n",
    "for x in [-1, 0, 1]:\n",
    "    print(sign(x))"
   ],
   "metadata": {
    "collapsed": false
   },
   "id": "b61c35105d6ed215"
  },
  {
   "cell_type": "markdown",
   "source": [
    "# 2.4 Thư viện (Library)\n",
    "Thư viện trong Python giống như các thư viện trong các ngôn ngữ lập trình khác, chúng cung cấp\n",
    "các hàm và cấu trúc dữ liệu sẵn có để giúp chúng ta giải quyết các vấn đề cụ thể. Một số thư\n",
    "viện phổ biến trong Python như: Numpy, Scipy, Pandas, Matplotlib, Scikit-learn, TensorFlow,\n",
    "Pytorch, Keras, OpenCV, …\n"
   ],
   "metadata": {
    "collapsed": false
   },
   "id": "32e184ce3d155d3d"
  },
  {
   "cell_type": "markdown",
   "source": [
    "# 2.5 Thư viện Numpy\n",
    "Numpy là một thư viện quan trọng trong Python, cung cấp nhiều hàm và cấu trúc dữ liệu mạnh mẽ\n",
    "được sử dụng rộng rãi trong tính toán khoa học và máy học. Một trong những cấu trúc dữ liệu\n",
    "quan trọng nhất trong Numpy là mảng đa chiều (n-dimensional array) hay ndarray. Mảng đa chiều"
   ],
   "metadata": {
    "collapsed": false
   },
   "id": "1efefdad82db4b95"
  },
  {
   "cell_type": "code",
   "execution_count": 3,
   "outputs": [
    {
     "name": "stdout",
     "output_type": "stream",
     "text": [
      "<class 'numpy.ndarray'>\n",
      "(3,)\n",
      "1 2 3\n"
     ]
    }
   ],
   "source": [
    "import numpy as np\n",
    "a = np.array([1, 2, 3])\n",
    "print(type(a))\n",
    "print(a.shape)\n",
    "print(a[0], a[1], a[2])\n",
    "a[0] = 5\n",
    "print(a)\n",
    "b = np.array([[1, 2, 3], [4, 5, 6]])\n",
    "print(b.shape)\n",
    "print(b[0, 0], b[0, 1], b[1, 0])"
   ],
   "metadata": {
    "collapsed": false,
    "ExecuteTime": {
     "end_time": "2024-04-14T06:02:46.420179600Z",
     "start_time": "2024-04-14T06:02:46.275394700Z"
    }
   },
   "id": "42f283bf5392a5fc"
  },
  {
   "cell_type": "code",
   "execution_count": 6,
   "outputs": [
    {
     "name": "stdout",
     "output_type": "stream",
     "text": [
      "[[0. 0.]\n",
      " [0. 0.]]\n",
      "[[1. 1.]]\n",
      "[[7 7]\n",
      " [7 7]]\n",
      "[[1. 0.]\n",
      " [0. 1.]]\n",
      "[[0.4491436  0.74227363]\n",
      " [0.89140192 0.21719971]]\n"
     ]
    }
   ],
   "source": [
    "a = np.zeros((2, 2))\n",
    "print(a)\n",
    "b = np.ones((1, 2))\n",
    "print(b)\n",
    "c = np.full((2, 2), 7)\n",
    "print(c)\n",
    "d = np.eye(2)\n",
    "print(d)\n",
    "e = np.random.random((2, 2))\n",
    "print(e)"
   ],
   "metadata": {
    "collapsed": false,
    "ExecuteTime": {
     "end_time": "2024-04-14T06:05:43.740183Z",
     "start_time": "2024-04-14T06:05:43.731025300Z"
    }
   },
   "id": "86e49f57ea8832e3"
  },
  {
   "cell_type": "markdown",
   "source": [
    "## 2.5.1 Array indexing"
   ],
   "metadata": {
    "collapsed": false
   },
   "id": "ed01c4234b5b24dd"
  },
  {
   "cell_type": "code",
   "execution_count": null,
   "outputs": [],
   "source": [
    "import numpy as np\n",
    "a = np.array([[1, 2, 3, 4], [5, 6, 7, 8], [9, 10, 11, 12]])\n",
    "b = a[:2, 1:3]"
   ],
   "metadata": {
    "collapsed": false
   },
   "id": "c3c08f314b32d210"
  }
 ],
 "metadata": {
  "kernelspec": {
   "display_name": "Python 3",
   "language": "python",
   "name": "python3"
  },
  "language_info": {
   "codemirror_mode": {
    "name": "ipython",
    "version": 2
   },
   "file_extension": ".py",
   "mimetype": "text/x-python",
   "name": "python",
   "nbconvert_exporter": "python",
   "pygments_lexer": "ipython2",
   "version": "2.7.6"
  }
 },
 "nbformat": 4,
 "nbformat_minor": 5
}
