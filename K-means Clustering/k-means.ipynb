{
 "cells": [
  {
   "cell_type": "markdown",
   "source": [
    "# Bài 4: K-means Clustering\n",
    "\n",
    "## 1. Giới thiệu\n",
    "\n",
    "## 2. Phân tích toán học\n",
    "\n",
    "## 3. Ví dụ trên Python\n",
    "\n",
    "## 4. Thảo luận\n",
    "\n",
    "## 5. Tài liệu tham khảo"
   ],
   "metadata": {
    "collapsed": false
   },
   "id": "f38998d775a7dc34"
  },
  {
   "cell_type": "markdown",
   "source": [
    "# Bài 5:K-means Clustering: Simple Applications\n",
    "\n",
    "1. Phân nhóm chữ số viết tay\n",
    "- Bộ cơ sở dữ liệu MNIST\n",
    "- Bài toán phân nhóm giả định\n",
    "- Làm việc trên Python\n",
    "2. Object Segmentation (tách vật thể trong ảnh)\n",
    "- Đặt vấn đề\n",
    "- Lên ý tưởng\n",
    "- Làm việc trên Python\n",
    "- \n",
    "3. Image Compression (nén ảnh và nén dữ liệu nói chung)\n",
    "4. Thảo luận\n",
    "5. Souce code\n",
    "6. Tài liệu tham khảo"
   ],
   "metadata": {
    "collapsed": false
   },
   "id": "322e2db97b3717b6"
  },
  {
   "cell_type": "markdown",
   "source": [
    "import sklearn\n",
    "print(sklearn.__version__)\n"
   ],
   "metadata": {
    "collapsed": false
   },
   "id": "1c97878a4a2a54e7"
  },
  {
   "cell_type": "markdown",
   "source": [],
   "metadata": {
    "collapsed": false
   },
   "id": "41f7fd2a770830f6"
  },
  {
   "cell_type": "code",
   "execution_count": null,
   "outputs": [],
   "source": [],
   "metadata": {
    "collapsed": false
   },
   "id": "13347483170a66c4"
  },
  {
   "cell_type": "code",
   "execution_count": null,
   "outputs": [],
   "source": [],
   "metadata": {
    "collapsed": false
   },
   "id": "fe49282339dc2020"
  }
 ],
 "metadata": {
  "kernelspec": {
   "display_name": "Python 3",
   "language": "python",
   "name": "python3"
  },
  "language_info": {
   "codemirror_mode": {
    "name": "ipython",
    "version": 2
   },
   "file_extension": ".py",
   "mimetype": "text/x-python",
   "name": "python",
   "nbconvert_exporter": "python",
   "pygments_lexer": "ipython2",
   "version": "2.7.6"
  }
 },
 "nbformat": 4,
 "nbformat_minor": 5
}
