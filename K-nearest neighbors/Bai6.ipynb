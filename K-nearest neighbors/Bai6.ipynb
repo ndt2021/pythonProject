{
 "cells": [
  {
   "cell_type": "markdown",
   "source": [
    "# K-nearest neighbors\n",
    "\n",
    "1. Giới thiệu\n",
    "\n",
    "\n",
    "| Ngôn ngữ người    | Ngôn ngữ Máy Học | Ngôn ngữ Máy Học   |\n",
    "|-------------------|------------------|--------------------|\n",
    "| Câu hỏi           | Điểm dữ liệu     | Data point         |\n",
    "| ----------------- |------------------| ------------------ |\n",
    "| Giá trị 1         | Giá trị 2        |                    |\n",
    "| ----------------- |------------------| ------------------ |\n",
    "| Giá trị 1         | Giá trị 2        |                    |\n",
    "| ----------------- |------------------| ------------------ |\n",
    "| Giá trị 1         | Giá trị 2        |                    |\n",
    "| ----------------- |------------------| ------------------ |\n",
    "| Giá trị 1         | Giá trị 2        |                    |\n",
    "| ----------------- |------------------| ------------------ |\n",
    "| Giá trị 1         | Giá trị 2        |                    |\n",
    "| ----------------- |------------------| ------------------ |\n",
    "| Giá trị 1         | Giá trị 2        |                    |"
   ],
   "metadata": {
    "collapsed": false
   },
   "id": "7a474f9871267b22"
  },
  {
   "cell_type": "code",
   "execution_count": null,
   "outputs": [],
   "source": [],
   "metadata": {
    "collapsed": false,
    "ExecuteTime": {
     "end_time": "2024-03-16T06:20:00.771665800Z",
     "start_time": "2024-03-16T06:20:00.761959800Z"
    }
   },
   "id": "703919ecb65e37bd"
  }
 ],
 "metadata": {
  "kernelspec": {
   "display_name": "Python 3",
   "language": "python",
   "name": "python3"
  },
  "language_info": {
   "codemirror_mode": {
    "name": "ipython",
    "version": 2
   },
   "file_extension": ".py",
   "mimetype": "text/x-python",
   "name": "python",
   "nbconvert_exporter": "python",
   "pygments_lexer": "ipython2",
   "version": "2.7.6"
  }
 },
 "nbformat": 4,
 "nbformat_minor": 5
}
